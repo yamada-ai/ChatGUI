{
 "cells": [
  {
   "cell_type": "code",
   "execution_count": 1,
   "metadata": {},
   "outputs": [],
   "source": [
    "from chatDBServer.DB_wrapper import chatDB\n",
    "from chatDBServer.params import User, Room, Chat"
   ]
  },
  {
   "cell_type": "code",
   "execution_count": 5,
   "metadata": {},
   "outputs": [
    {
     "data": {
      "text/plain": [
       "['room_id', 'user_id', 'room_title', 'room_created_at']"
      ]
     },
     "execution_count": 5,
     "metadata": {},
     "output_type": "execute_result"
    }
   ],
   "source": [
    "list(Room.__dataclass_fields__.keys())"
   ]
  },
  {
   "cell_type": "code",
   "execution_count": 6,
   "metadata": {},
   "outputs": [
    {
     "data": {
      "text/plain": [
       "{'room_id': 1,\n",
       " 'user_id': 1,\n",
       " 'room_title': '最新キャラ弱すぎwww',\n",
       " 'room_created_at': ''}"
      ]
     },
     "execution_count": 6,
     "metadata": {},
     "output_type": "execute_result"
    }
   ],
   "source": [
    "def generate_Room(items):\n",
    "    room_items = list(Room.__dataclass_fields__.keys())\n",
    "    room_json = {}\n",
    "    for item, key in zip(items, room_items):\n",
    "        room_json[key] = item \n",
    "    return room_json\n",
    "\n",
    "generate_Room([1, 1, \"最新キャラ弱すぎwww\", \"\"])"
   ]
  },
  {
   "cell_type": "code",
   "execution_count": 2,
   "metadata": {},
   "outputs": [],
   "source": [
    "db_wrapper = chatDB(\"chatgui_test.db\")\n",
    "# db_wrapper.create_all_tables()"
   ]
  },
  {
   "cell_type": "code",
   "execution_count": 3,
   "metadata": {},
   "outputs": [],
   "source": [
    "import datetime\n",
    "now = datetime.datetime.now()\n",
    "chat1 = Chat(None, 2, 3, 4, \"あなたは平沢進です\", \"いいえ，平沢進ではありません\", now.strftime(\"%Y-%m-%d %H:%M:%S\"))"
   ]
  },
  {
   "cell_type": "code",
   "execution_count": 4,
   "metadata": {},
   "outputs": [
    {
     "data": {
      "text/plain": [
       "Chat(chat_id=None, user_id=2, room_id=3, turn=4, user_text='あなたは平沢進です', gpt_text='いいえ，平沢進ではありません', chat_created_at='2023-05-13 00:03:22')"
      ]
     },
     "execution_count": 4,
     "metadata": {},
     "output_type": "execute_result"
    }
   ],
   "source": [
    "chat1"
   ]
  },
  {
   "cell_type": "code",
   "execution_count": 5,
   "metadata": {},
   "outputs": [],
   "source": [
    "# db_wrapper.create_chat(chat1)"
   ]
  },
  {
   "cell_type": "code",
   "execution_count": 6,
   "metadata": {},
   "outputs": [
    {
     "ename": "TypeError",
     "evalue": "__init__() missing 2 required positional arguments: 'room_title' and 'room_created_at'",
     "output_type": "error",
     "traceback": [
      "\u001b[0;31m---------------------------------------------------------------------------\u001b[0m",
      "\u001b[0;31mTypeError\u001b[0m                                 Traceback (most recent call last)",
      "Cell \u001b[0;32mIn[6], line 1\u001b[0m\n\u001b[0;32m----> 1\u001b[0m user1 \u001b[39m=\u001b[39m Room(\u001b[39mNone\u001b[39;49;00m, \u001b[39m\"\u001b[39;49m\u001b[39mhirasawa3\u001b[39;49m\u001b[39m\"\u001b[39;49m)\n\u001b[1;32m      2\u001b[0m \u001b[39m# db_wrapper.create_user(user1)\u001b[39;00m\n",
      "\u001b[0;31mTypeError\u001b[0m: __init__() missing 2 required positional arguments: 'room_title' and 'room_created_at'"
     ]
    }
   ],
   "source": [
    "# user1 = Room(None, \"hirasawa3\")\n",
    "# db_wrapper.create_user(user1)"
   ]
  },
  {
   "cell_type": "code",
   "execution_count": 8,
   "metadata": {},
   "outputs": [
    {
     "data": {
      "text/plain": [
       "'2023-05-13 00:04:40'"
      ]
     },
     "execution_count": 8,
     "metadata": {},
     "output_type": "execute_result"
    }
   ],
   "source": [
    "from chatDBServer.utils import *\n",
    "get_datetime_str()"
   ]
  },
  {
   "cell_type": "code",
   "execution_count": 7,
   "metadata": {},
   "outputs": [
    {
     "data": {
      "text/plain": [
       "{'status code': 0}"
      ]
     },
     "execution_count": 7,
     "metadata": {},
     "output_type": "execute_result"
    }
   ],
   "source": [
    "room1 = Room(None, 1, \"最新キャラ弱すぎwww\", None)\n",
    "db_wrapper.create_room(room1)"
   ]
  },
  {
   "cell_type": "code",
   "execution_count": 7,
   "metadata": {},
   "outputs": [
    {
     "data": {
      "text/plain": [
       "(1,)"
      ]
     },
     "execution_count": 7,
     "metadata": {},
     "output_type": "execute_result"
    }
   ],
   "source": [
    "db_wrapper.get_user_id(\"hirasawa\")"
   ]
  },
  {
   "cell_type": "code",
   "execution_count": 15,
   "metadata": {},
   "outputs": [
    {
     "data": {
      "text/plain": [
       "[(2, 'hirasawa2')]"
      ]
     },
     "execution_count": 15,
     "metadata": {},
     "output_type": "execute_result"
    }
   ],
   "source": [
    "db_wrapper.cursor.execute(\"select * from User where rowid = last_insert_rowid()\")\n",
    "db_wrapper.cursor.fetchall()"
   ]
  },
  {
   "cell_type": "code",
   "execution_count": 12,
   "metadata": {},
   "outputs": [],
   "source": [
    "import dataclasses\n",
    "\n",
    "def dataclass2sql(params):\n",
    "    att_dict:dict = type(params).__dict__[\"__annotations__\"]\n",
    "    params_dict = dataclasses.asdict(params)\n",
    "    sql_items = []\n",
    "    for att, p_key in zip(att_dict.keys(), params_dict.keys()):\n",
    "        type_ = att_dict[att]\n",
    "        if params_dict[p_key] is None:\n",
    "            sql_items.append(\"NULL\")\n",
    "            continue\n",
    "        # 数値\n",
    "        if type_ == int:\n",
    "            sql_items.append(str(params_dict[p_key]))\n",
    "        elif type_ == str:\n",
    "            sql_items.append(\"'\"+params_dict[p_key]+\"'\")\n",
    "        else:\n",
    "            sql_items.append(\"'\"+params_dict[p_key]+\"'\")\n",
    "    return \", \".join(sql_items)"
   ]
  },
  {
   "cell_type": "code",
   "execution_count": 13,
   "metadata": {},
   "outputs": [
    {
     "data": {
      "text/plain": [
       "\"NULL, 2, 3, 4, 0, 'いいえ，平沢進ではありません', '2023-05-07 17:44:23'\""
      ]
     },
     "execution_count": 13,
     "metadata": {},
     "output_type": "execute_result"
    }
   ],
   "source": [
    "dataclass2sql(chat1)"
   ]
  },
  {
   "cell_type": "code",
   "execution_count": 21,
   "metadata": {},
   "outputs": [],
   "source": [
    "import datetime\n",
    "now = datetime.datetime.now()"
   ]
  },
  {
   "cell_type": "code",
   "execution_count": 24,
   "metadata": {},
   "outputs": [
    {
     "data": {
      "text/plain": [
       "'2023-05-06 20:20:45'"
      ]
     },
     "execution_count": 24,
     "metadata": {},
     "output_type": "execute_result"
    }
   ],
   "source": [
    "now.strftime(\"%Y-%m-%d %H:%M:%S\")"
   ]
  },
  {
   "cell_type": "code",
   "execution_count": 1,
   "metadata": {},
   "outputs": [],
   "source": [
    "import requests\n",
    "\n",
    "api_url = \"https://api.adviceslip.com/advice\"\n",
    "res = requests.get(url=api_url)"
   ]
  },
  {
   "cell_type": "code",
   "execution_count": 6,
   "metadata": {},
   "outputs": [
    {
     "data": {
      "text/plain": [
       "\"Today, do not use the words â€˜Kind of,' â€˜Sort of' or â€˜Maybe.' It either is or it isn't.\""
      ]
     },
     "execution_count": 6,
     "metadata": {},
     "output_type": "execute_result"
    }
   ],
   "source": [
    "res.json()[\"slip\"][\"advice\"]"
   ]
  },
  {
   "cell_type": "code",
   "execution_count": 5,
   "metadata": {},
   "outputs": [
    {
     "data": {
      "text/plain": [
       "{'slip': {'id': 146,\n",
       "  'advice': \"Today, do not use the words â€˜Kind of,' â€˜Sort of' or â€˜Maybe.' It either is or it isn't.\"}}"
      ]
     },
     "execution_count": 5,
     "metadata": {},
     "output_type": "execute_result"
    }
   ],
   "source": [
    "res.json()"
   ]
  },
  {
   "cell_type": "code",
   "execution_count": 1,
   "metadata": {},
   "outputs": [
    {
     "name": "stdout",
     "output_type": "stream",
     "text": [
      "9419013e-f132-11ed-84cb-00155df8e2ba\n",
      "d407cf76-ed73-3579-959e-78c80e8d4579\n",
      "c74a196f-f19d-5ea9-bffd-a2742432fc9c\n",
      "bd5e3bc7-e9bc-4043-b778-3cbfbe2d7949\n"
     ]
    }
   ],
   "source": [
    "import uuid\n",
    "\n",
    "print(uuid.uuid1())\n",
    "print(uuid.uuid3(uuid.NAMESPACE_URL, 'www.google.com'))\n",
    "print(uuid.uuid5(uuid.NAMESPACE_URL, 'www.google.com'))\n",
    "print(uuid.uuid4())\n"
   ]
  }
 ],
 "metadata": {
  "kernelspec": {
   "display_name": "final2-puvRsFpg",
   "language": "python",
   "name": "python3"
  },
  "language_info": {
   "codemirror_mode": {
    "name": "ipython",
    "version": 3
   },
   "file_extension": ".py",
   "mimetype": "text/x-python",
   "name": "python",
   "nbconvert_exporter": "python",
   "pygments_lexer": "ipython3",
   "version": "3.8.8"
  },
  "orig_nbformat": 4
 },
 "nbformat": 4,
 "nbformat_minor": 2
}
